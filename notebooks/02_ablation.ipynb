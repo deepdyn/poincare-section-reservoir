{
 "cells": [
  {"cell_type":"markdown","metadata":{},"source":["# Ablation: bins × sections"]},
  {"cell_type":"code","metadata":{},"execution_count":null,"outputs":[],"source":[
    "import sys, os\\n",
    "sys.path.append(os.path.join('..','src'))\\n",
    "from psr.config import load_config\\n",
    "from psr.pipelines.experiment import run_experiment\\n",
    "import pandas as pd\\n",
    "\\n",
    "bins_list = [16, 32, 64]\\n",
    "sections_list = [1, 3, 5]\\n",
    "rows = []\\n",
    "for b in bins_list:\\n",
    "    for q in sections_list:\\n",
    "        cfg = load_config('configs/default.yaml', overrides={'model.bins': b, 'model.sections': q})\\n",
    "        res = run_experiment(cfg)\\n",
    "        row = {'bins': b, 'sections': q}\\n",
    "        row.update({f'NRMSE@{k}': v for k, v in res.metrics.items()})\\n",
    "        rows.append(row)\\n",
    "df = pd.DataFrame(rows).sort_values(['bins','sections']).reset_index(drop=True)\\n",
    "df"
  ]}
 ],
 "metadata": {
  "kernelspec": {"display_name":"Python 3","language":"python","name":"python3"},
  "language_info": {"name":"python"}
 },
 "nbformat":4,"nbformat_minor":5
}
