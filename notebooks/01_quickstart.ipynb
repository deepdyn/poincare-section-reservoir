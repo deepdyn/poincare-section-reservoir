{
 "cells": [
  {
   "cell_type": "markdown",
   "metadata": {},
   "source": ["# PSR Quickstart\\nRun a single experiment and view metrics."]
  },
  {
   "cell_type": "code",
   "metadata": {},
   "execution_count": null,
   "outputs": [],
   "source": [
    "import sys, os\\n",
    "sys.path.append(os.path.join('..','src'))  # safe if not installed\\n",
    "from psr.config import load_config\\n",
    "from psr.pipelines.experiment import run_experiment\\n",
    "\\n",
    "cfg = load_config('configs/default.yaml')\\n",
    "result = run_experiment(cfg)\\n",
    "result.metrics"
   ]
  }
 ],
 "metadata": {
  "kernelspec": {"display_name": "Python 3", "language": "python", "name": "python3"},
  "language_info": {"name": "python"}
 },
 "nbformat": 4,
 "nbformat_minor": 5
}
