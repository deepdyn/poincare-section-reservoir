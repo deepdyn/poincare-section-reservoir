{
 "cells": [
  {"cell_type":"markdown","metadata":{},"source":["# View latest run figures"]},
  {"cell_type":"code","metadata":{},"execution_count":null,"outputs":[],"source":[
    "from pathlib import Path\\n",
    "from IPython.display import Image, display\\n",
    "import os\\n",
    "root = Path('artifacts/runs/lorenz63')\\n",
    "if not root.exists():\\n",
    "    raise SystemExit('No runs found. Execute the quickstart first.')\\n",
    "latest = sorted(root.glob('*'))[-1]\\n",
    "print('Latest run:', latest)\\n",
    "for name in ['phase3d.png','overlay.png','eigenspectrum.png','section_points.png','section_bins.png','section_transitions.png']:\\n",
    "    p = latest / name\\n",
    "    if p.exists():\\n",
    "        display(Image(filename=str(p)))\\n",
    "    else:\\n",
    "        print('Missing:', p)"
  ]}
 ],
 "metadata": {
  "kernelspec": {"display_name":"Python 3","language":"python","name":"python3"},
  "language_info": {"name":"python"}
 },
 "nbformat":4,"nbformat_minor":5
}
